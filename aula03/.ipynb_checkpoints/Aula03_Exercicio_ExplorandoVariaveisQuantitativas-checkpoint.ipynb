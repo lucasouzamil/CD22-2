{
 "cells": [
  {
   "cell_type": "markdown",
   "metadata": {},
   "source": [
    "___\n",
    "# Exercício: Análise Exploratória - Variáveis Quantitativas\n",
    "___\n",
    "\n",
    "## Aula 03\n"
   ]
  },
  {
   "cell_type": "markdown",
   "metadata": {},
   "source": [
    "## Índice\n",
    "\n",
    "- [PERFOMANCE DE ESTUDANTES EM EXAMES](#students)\n",
    "\n",
    "    \n",
    "- [Base de dados e Dicionário das variáveis](#dados)\n",
    "- [Leitura da base de dados](#leitura)\n",
    "- [Preparo da base de dados](#preparo)\n",
    "\n",
    "\n",
    "- [Exercício 1](#ex1) \n",
    "- [Exercício 2](#ex2) "
   ]
  },
  {
   "cell_type": "code",
   "execution_count": null,
   "metadata": {},
   "outputs": [],
   "source": [
    "%matplotlib inline\n",
    "import math\n",
    "import os\n",
    "\n",
    "import matplotlib.pyplot as plt\n",
    "import numpy as np\n",
    "from numpy import arange\n",
    "import pandas as pd\n",
    "\n",
    "from scipy import stats #importa apenas as funções de estatísticas da biblioteca SciPy.\n",
    "\n",
    "from IPython.display import display  # Para ter melhor print."
   ]
  },
  {
   "cell_type": "markdown",
   "metadata": {},
   "source": [
    "___\n",
    "<div id=\"students\"></div>\n",
    "\n",
    "# PERFORMANCE DE ESTUDANTES EM EXAMES\n",
    "\n",
    "<img src=\"students.jpg\" height=\"400\">\n",
    "\n",
    "Fonte: extraído da internet"
   ]
  },
  {
   "cell_type": "markdown",
   "metadata": {},
   "source": [
    "<div id=\"dados\"></div>\n",
    "\n",
    "## Base de dados e Dicionário das variáveis:\n",
    "\n",
    "A base de dados foi extraída da plataforma [Kaggle](https://www.kaggle.com/spscientist/students-performance-in-exams) intitulado “Students Performance in Exams”, cujo objetivo principal é verificar a performance do estudante considerando seu *background*. Ainda, para essa avaliação, a base de dados original passou por algumas transformações, como acréscimo de novas variáveis.\n",
    "\n",
    "Essa base de dados possui informação de $1.000$ estudantes.\n",
    "\n",
    "As variáveis apresentadas na base de dados `StudentsPerformance.csv` são:\n",
    " * `gender`: categozido em ['female', 'male'];\n",
    " * `race/ethnicity`: categorizado em ['group A', 'group B', 'group C', 'group D', 'group E'];\n",
    " * `parental level of education`: categorizado em ['some high school', 'high school', 'some college', 'associate's degree', 'bachelor's degree', 'master's degree'], respeitando essa ordem natural;\n",
    " * `lunch`: categorizado em ['free/reduced', 'standard'];\n",
    " * `test preparation course`: categorizado em ['completed', 'none'];\n",
    " * `math score`: nota obtida em matemática, com valor de $0$ a $100$;\n",
    " * `reading score`: nota obtida em leitura, com valor de $0$ a $100$; e\n",
    " * `writing score`: nota obtida em escrita, com valor de $0$ a $100$.\n",
    " \n",
    "<br> \n",
    "\n",
    "Ainda, foram criadas as seguintes variáveis a partir das notas em cada prova:\n",
    " * `Xm`: se a nota de matemática for >= 80, vale 1; caso contrário, vale 0;\n",
    " * `Xr`: se a nota de leitura for >= 80, vale 1; caso contrário, vale 0;\n",
    " * `Xw`: se a nota de escrita for >= 80, vale 1; caso contrário, vale 0;\n",
    " * `Performance`: é definida pela soma de Xm, Xr e Xw. Assim, por exemplo, se `Perfomance` para um estudante for igual a 2, então esse estudante teve score >= 80 nas duas dessas três provas; e de forma análoga para demais caso.\n",
    " \n",
    "Essas quatro últimas variáveis serão criadas rodando alguns códigos a seguir."
   ]
  },
  {
   "cell_type": "markdown",
   "metadata": {},
   "source": [
    "[Volta ao Índice](#indice)"
   ]
  },
  {
   "cell_type": "markdown",
   "metadata": {},
   "source": [
    "<div id=\"leitura\"></div>\n",
    "\n",
    "## Leitura da base de dados"
   ]
  },
  {
   "cell_type": "code",
   "execution_count": null,
   "metadata": {},
   "outputs": [],
   "source": [
    "print(\"Esperamos trabalhar no diretório\")\n",
    "print(os.getcwd())"
   ]
  },
  {
   "cell_type": "code",
   "execution_count": null,
   "metadata": {},
   "outputs": [],
   "source": [
    "filename = 'StudentsPerformance.csv'\n",
    "\n",
    "if filename in os.listdir():\n",
    "    print(f'Parece que o arquivo {filename} está na mesma pasta do notebook da avaliação, yay!\\n')\n",
    "    \n",
    "else:\n",
    "    print(f'Não encontrei o arquivo {filename}.\\n'\n",
    "          f'O notebook e os arquivos de dados desta avaliação devem ser salvos dentro da mesma pasta no seu computador.\\n')"
   ]
  },
  {
   "cell_type": "code",
   "execution_count": null,
   "metadata": {
    "scrolled": false
   },
   "outputs": [],
   "source": [
    "# Carregando os dados\n",
    "dados = pd.read_csv('StudentsPerformance.csv')\n",
    "dados.head()"
   ]
  },
  {
   "cell_type": "markdown",
   "metadata": {},
   "source": [
    "[Volta ao Índice](#indice)"
   ]
  },
  {
   "cell_type": "markdown",
   "metadata": {},
   "source": [
    "<div id=\"preparo\"></div>\n",
    "\n",
    "## Preparo da base de dados\n",
    "\n",
    "**IMPORTANTE:** Executem, por favor, todos os comandos a seguir antes de chegar de iniciar a resoluçao dos exercícios."
   ]
  },
  {
   "cell_type": "code",
   "execution_count": null,
   "metadata": {},
   "outputs": [],
   "source": [
    "# Transforma as cinco primeiras colunas da base de dados como categóricas\n",
    "dados.iloc[:,0:5]=dados.iloc[:,0:5].astype('category')\n",
    "\n",
    "# Faz apenas essa ser ordinal respeitando a ordem das categorias definidas em categories\n",
    "dados['parental level of education'] = pd.Categorical(dados['parental level of education'], \n",
    "                                                     categories=['some high school', 'high school',\n",
    "                                                                 'some college',\n",
    "                                                                 \"associate's degree\",\"bachelor's degree\",\"master's degree\"],\n",
    "                                                      ordered=True)\n",
    "\n",
    "# Visualização das categorias dessas variáveis\n",
    "(lambda mostra_categorias: list(map(lambda x: dados.iloc[:,x].cat.categories,\n",
    "                                    mostra_categorias)))([0,1,2,3,4])"
   ]
  },
  {
   "cell_type": "code",
   "execution_count": null,
   "metadata": {},
   "outputs": [],
   "source": [
    "# Quantifica como 1, se notas >= 80; caso contrário, como 0\n",
    "umzero = lambda x: 1 if x >= 80 else 0\n",
    "dados['Xm'] = dados['math score'].apply(umzero)\n",
    "dados['Xr'] = dados['reading score'].apply(umzero)\n",
    "dados['Xw'] = dados['writing score'].apply(umzero)"
   ]
  },
  {
   "cell_type": "code",
   "execution_count": null,
   "metadata": {},
   "outputs": [],
   "source": [
    "# Performance: número de provas com score >= 80 entre as 3 provas avaliadas\n",
    "dados['Performance'] = dados.iloc[:,8:11].sum(axis=1)"
   ]
  },
  {
   "cell_type": "code",
   "execution_count": null,
   "metadata": {
    "scrolled": false
   },
   "outputs": [],
   "source": [
    "# Conteúdo das 5 primeiras linhas da base de dados\n",
    "dados.head()"
   ]
  },
  {
   "cell_type": "code",
   "execution_count": null,
   "metadata": {
    "scrolled": false
   },
   "outputs": [],
   "source": [
    "dados.dtypes"
   ]
  },
  {
   "cell_type": "markdown",
   "metadata": {},
   "source": [
    "[Volta ao Índice](#indice)"
   ]
  },
  {
   "cell_type": "markdown",
   "metadata": {},
   "source": [
    "<div id=\"ex1\"></div>\n",
    "\n",
    "## Exercício 1 - Classificação das variáveis contidas na base de dados\n",
    "\n",
    "Faça a classificação de cada variável escolhendo um entre os quatro tipos possíveis:\n",
    " * Qualitativa Nominal\n",
    " * Qualitativa Ordinal\n",
    " * Quantitativa Discreta\n",
    " * QuantitativA Contínua"
   ]
  },
  {
   "cell_type": "raw",
   "metadata": {},
   "source": [
    "# ESCREVA SUA RESPOSTA AQUI"
   ]
  },
  {
   "cell_type": "markdown",
   "metadata": {},
   "source": [
    "<div id=\"ex2\"></div>\n",
    "\n",
    "## Exercício 2 - Análise exploratória dos dados\n",
    "\n",
    "O objetivo principal que norteia a manipulação dessa base de dados é compreender quais as características do estudante que podem ser responsáveis pela performance do estudante nos testes.\n",
    "\n",
    "Nesse caso, utilize ferramentas estatísticas numéricos e gráficas que permitam explorar o conjunto de dados.\n"
   ]
  },
  {
   "cell_type": "code",
   "execution_count": null,
   "metadata": {},
   "outputs": [],
   "source": [
    "# ESCREVA SUA RESPOSTA AQUI"
   ]
  },
  {
   "cell_type": "code",
   "execution_count": null,
   "metadata": {},
   "outputs": [],
   "source": []
  },
  {
   "cell_type": "code",
   "execution_count": null,
   "metadata": {},
   "outputs": [],
   "source": []
  }
 ],
 "metadata": {
  "kernelspec": {
   "display_name": "Python 3 (ipykernel)",
   "language": "python",
   "name": "python3"
  },
  "language_info": {
   "codemirror_mode": {
    "name": "ipython",
    "version": 3
   },
   "file_extension": ".py",
   "mimetype": "text/x-python",
   "name": "python",
   "nbconvert_exporter": "python",
   "pygments_lexer": "ipython3",
   "version": "3.9.12"
  }
 },
 "nbformat": 4,
 "nbformat_minor": 4
}
