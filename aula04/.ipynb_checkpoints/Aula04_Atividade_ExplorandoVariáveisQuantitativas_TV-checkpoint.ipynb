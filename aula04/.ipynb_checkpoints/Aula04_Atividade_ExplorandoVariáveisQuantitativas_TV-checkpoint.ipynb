{
 "cells": [
  {
   "cell_type": "markdown",
   "metadata": {},
   "source": [
    "___\n",
    "# Atividade: Análise Exploratória -  Variáveis Quantitativas\n",
    "___\n",
    "\n",
    "## Aula 04\n"
   ]
  },
  {
   "cell_type": "markdown",
   "metadata": {},
   "source": [
    "<div id=\"indice\"></div>\n",
    "\n",
    "## Índice\n",
    "\n",
    "- [Empresa de TV](#empresa-de-tv)\n",
    "\n",
    "\n",
    "- [Análise Exploratória - Medidas resumo](#medidasresumo)\n",
    "    - [Revisão do Exercício 2 da Aula 03](#ex2aula02)\n",
    "    - [Revisão Exercício 3 da Aula 03](#ex3aula02)   \n",
    "    - [Relembrando uso de `describe()` e `groupby(by= )`](#describe_groupby)\n",
    "    - [Relembrando a interpretação: **Exercicio 5** do notebook da **Aula03_Atividade**](#interpretacao)\n",
    "    \n",
    "    \n",
    "- [Análise Exploratória - Histograma](#histograma)\n",
    "    - [Exercício 1](#ex1)\n",
    "    - [Como construir um histograma com AMPLITUDES IGUAIS](#ampliguais)\n",
    "    - [Como construir um histograma com AMPLITUDES DESIGUAIS](#ampldesiguais)\n",
    "    - [Exercício 2](#ex2) \n",
    "    "
   ]
  },
  {
   "cell_type": "code",
   "execution_count": 1,
   "metadata": {},
   "outputs": [],
   "source": [
    "%matplotlib inline\n",
    "import pandas as pd\n",
    "import matplotlib.pyplot as plt\n",
    "import os\n",
    "from numpy import arange\n",
    "import numpy as np\n",
    "\n",
    "# Para ter melhor print\n",
    "from IPython.display import display"
   ]
  },
  {
   "cell_type": "code",
   "execution_count": 2,
   "metadata": {
    "scrolled": true
   },
   "outputs": [
    {
     "name": "stdout",
     "output_type": "stream",
     "text": [
      "Esperamos trabalhar no diretório\n",
      "C:\\Users\\lucas\\OneDrive\\Área de Trabalho\\cdados\\CD22-2\\aula04\n"
     ]
    }
   ],
   "source": [
    "print('Esperamos trabalhar no diretório')\n",
    "print(os.getcwd())"
   ]
  },
  {
   "cell_type": "markdown",
   "metadata": {},
   "source": [
    "___\n",
    "<div id=\"empresa-de-tv\"></div>\n",
    "\n",
    "# Empresa de TV\n",
    "\n",
    "<img src=\"empresaTV.jpg\" height=\"400\">\n",
    "\n",
    "Fonte: extraído da internet"
   ]
  },
  {
   "cell_type": "markdown",
   "metadata": {},
   "source": [
    "Uma empresa de TV via satélite criou recentemente dois tipos de planos de canais (A e B).\n",
    "\n",
    "A empresa tem como objetivo estudar o perfil dos clientes que aderiram ao plano para enviar malas diretas aos potenciais clientes de cada tipo de plano.\n",
    "\n",
    "A base de dados apresenta algumas variáveis para uma amostra de 82 clientes selecionados aleatoriamente dentre aqueles que aderiram aos planos. As variáveis têm os seguintes significados:\n",
    "\n",
    "* CLIENTE: identificador do cliente.\n",
    "* PLANO: apresenta o plano adquirido pelo cliente – (1=A ou 2=B). \n",
    "* EC: apresenta estado civil do cliente no momento da adesão ao  plano – (1=Casado, 2=Solteiro e 3=Outros).\n",
    "* SATISFACAO: grau de satisfação do cliente pelo plano – \n",
    "\t(5=Muito satisfeito, 4=Satisfeito, 3=Indiferente, 2=Insatisfeito e 1=Muito insatisfeito).\n",
    "* RENDA: renda pessoal do cliente, em milhares de reais.\n",
    "\n",
    "O arquivo `EmpresaTV Cod.xlsx` contém as variáveis descritas acima.\n",
    "\n",
    "<br>\n",
    "\n",
    "**Leitura e Preparo da base de dados:**"
   ]
  },
  {
   "cell_type": "code",
   "execution_count": 5,
   "metadata": {},
   "outputs": [],
   "source": [
    "dados = pd.read_excel('EmpresaTV_Cod.xlsx')\n",
    "\n",
    "# Definições necessárias vistas na Aula 02\n",
    "dados.PLANO = dados.PLANO.astype('category')\n",
    "dados.EC = dados.EC.astype('category')\n",
    "dados.SATISFACAO = dados.SATISFACAO.astype('category')\n",
    "dados.RENDA = dados.RENDA.astype('float')\n",
    "\n",
    "dados.PLANO.cat.categories = (['A', 'B']) # Seguindo a ordem [1,2]\n",
    "dados.EC.cat.categories = (['Casado', 'Solteiro', 'Outros']) #Seguindo a ordem [1,2,3]\n",
    "\n",
    "# Pelo fato de SATISFACAO ser ordinal\n",
    "dados.SATISFACAO = pd.Categorical(dados.SATISFACAO, \n",
    "                                  categories = ['Muito Insatisfeito', 'Insatisfeito', 'Indiferente', \n",
    "                                                   'Satisfeito', 'Muito Satisfeito'], \n",
    "                                  ordered=True)"
   ]
  },
  {
   "cell_type": "markdown",
   "metadata": {},
   "source": [
    "___\n",
    "<div id=\"medidasresumo\"></div>\n",
    "\n",
    "# Medidas resumo\n",
    "\n",
    "Para compreender as informações contidas em variáveis quantitativas, podemos recorrer ao cálculo de algumas medidas resumo como  por exemplo:\n",
    "  * média: [pd.mean()](https://pandas.pydata.org/pandas-docs/stable/reference/api/pandas.DataFrame.mean.html)\n",
    "  * percentis: [pd.quantile()](https://pandas.pydata.org/pandas-docs/stable/reference/api/pandas.DataFrame.quantile.html)\n",
    "  * desvio padrão: [pd.std()](https://pandas.pydata.org/pandas-docs/stable/reference/api/pandas.DataFrame.std.html)\n",
    "  * variância: [pd.var()](https://pandas.pydata.org/pandas-docs/stable/reference/api/pandas.DataFrame.var.html)\n",
    "  "
   ]
  },
  {
   "cell_type": "markdown",
   "metadata": {},
   "source": [
    "<div id=\"ex2aula03\"></div>\n",
    "\n",
    "No **Exercicio 2** do notebook da **Aula03_Atividade**, foi pedido para segmentar a base de dados por plano e criar uma variável renda para cada plano.\n",
    "\n",
    "A seguir, temos as respostas para esse exercício:\n"
   ]
  },
  {
   "cell_type": "code",
   "execution_count": 6,
   "metadata": {},
   "outputs": [],
   "source": [
    "# Cria dataframes apenas com clientes do plano colocado no filtro de linhas\n",
    "dados_a = dados.loc[dados['PLANO'] == 'A',:]\n",
    "dados_b = dados.loc[dados['PLANO'] == 'B',:]\n",
    "\n",
    "# Cria Series considerando apenas a coluna renda com clientes de um particular plano\n",
    "renda_a = dados.loc[dados['PLANO'] == 'A','RENDA']\n",
    "renda_b = dados.loc[dados['PLANO'] == 'B','RENDA']\n",
    "\n",
    "#ou\n",
    "renda_a = dados_a['RENDA']\n",
    "renda_b = dados_b['RENDA']"
   ]
  },
  {
   "cell_type": "markdown",
   "metadata": {},
   "source": [
    "<div id=\"ex3aula03\"></div>\n",
    "\n",
    "Já no **Exercicio 3** do notebook da **Aula03_Atividade**, foi pedido para imprimir tamanho amostral, média, primeiro quartil (percentil de ordem 25%), segundo quartil (mediana), terceiro quartil (percentil de ordem 75%), mínimo, máximo, desvio padrão e variância das rendas do clientes para cada plano A e B, separadamente.\n",
    "\n",
    "A seguir, temos as respostas para esse exercício:\n"
   ]
  },
  {
   "cell_type": "code",
   "execution_count": 7,
   "metadata": {},
   "outputs": [
    {
     "name": "stdout",
     "output_type": "stream",
     "text": [
      "----------------------------------------\n",
      "Plano A\n",
      "----------------------------------------\n",
      "contagem               = 46\n",
      "média                  = 10.422\n",
      "mínimo                 = 0.700\n",
      "primeiro quartil (Q1)  = 7.475\n",
      "mediana          (Q2)  = 10.350\n",
      "terceiro quartil (Q3)  = 13.200\n",
      "máximo                 = 21.400\n",
      "variância amostral     = 19.941\n",
      "desvio padrão amostral = 4.466\n",
      "\n",
      "----------------------------------------\n",
      "Plano B\n",
      "----------------------------------------\n",
      "contagem               = 36\n",
      "média                  = 5.689\n",
      "mínimo                 = 0.600\n",
      "primeiro quartil (Q1)  = 4.150\n",
      "mediana          (Q2)  = 5.150\n",
      "terceiro quartil (Q3)  = 6.375\n",
      "máximo                 = 19.200\n",
      "variância amostral     = 10.847\n",
      "desvio padrão amostral = 3.293\n",
      "\n"
     ]
    }
   ],
   "source": [
    "for plano, var_quanti in (('Plano A', renda_a), ('Plano B', renda_b)):\n",
    "    print('-' * 40)\n",
    "    print(plano)\n",
    "    print('-' * 40)\n",
    "    print(f'contagem               = {len(var_quanti)}')\n",
    "    print(f'média                  = {var_quanti.mean():.3f}')\n",
    "    print(f'mínimo                 = {var_quanti.min():.3f}')\n",
    "    print(f'primeiro quartil (Q1)  = {var_quanti.quantile(q=0.25):.3f}')\n",
    "    print(f'mediana          (Q2)  = {var_quanti.median():.3f}')\n",
    "    print(f'terceiro quartil (Q3)  = {var_quanti.quantile(q=0.75):.3f}')\n",
    "    print(f'máximo                 = {var_quanti.max():.3f}')\n",
    "    print(f'variância amostral     = {var_quanti.var():.3f}')\n",
    "    print(f'desvio padrão amostral = {var_quanti.std():.3f}')\n",
    "    print()"
   ]
  },
  {
   "cell_type": "markdown",
   "metadata": {},
   "source": [
    "<div id=\"describe_groupby\"></div>\n",
    "\n",
    "## Relembrando uso de `describe()` e `groupby(by= )`:\n",
    "\n",
    "Outra maneira para obter as medidas resumo da variável `RENDA` segmentadas por `PLANO` é fazendo uso dos comandos `describe()` (**Exercício 4 do notebook Aula03_Atividade**) e `groupby(by= )` (**Exercício 6 do notebook Aula03_Exercício**).\n",
    "\n",
    "Vamos lembrar como fazê-lo?"
   ]
  },
  {
   "cell_type": "code",
   "execution_count": 8,
   "metadata": {
    "scrolled": true
   },
   "outputs": [
    {
     "data": {
      "text/html": [
       "<div>\n",
       "<style scoped>\n",
       "    .dataframe tbody tr th:only-of-type {\n",
       "        vertical-align: middle;\n",
       "    }\n",
       "\n",
       "    .dataframe tbody tr th {\n",
       "        vertical-align: top;\n",
       "    }\n",
       "\n",
       "    .dataframe thead th {\n",
       "        text-align: right;\n",
       "    }\n",
       "</style>\n",
       "<table border=\"1\" class=\"dataframe\">\n",
       "  <thead>\n",
       "    <tr style=\"text-align: right;\">\n",
       "      <th></th>\n",
       "      <th>count</th>\n",
       "      <th>mean</th>\n",
       "      <th>std</th>\n",
       "      <th>min</th>\n",
       "      <th>25%</th>\n",
       "      <th>50%</th>\n",
       "      <th>75%</th>\n",
       "      <th>max</th>\n",
       "    </tr>\n",
       "    <tr>\n",
       "      <th>PLANO</th>\n",
       "      <th></th>\n",
       "      <th></th>\n",
       "      <th></th>\n",
       "      <th></th>\n",
       "      <th></th>\n",
       "      <th></th>\n",
       "      <th></th>\n",
       "      <th></th>\n",
       "    </tr>\n",
       "  </thead>\n",
       "  <tbody>\n",
       "    <tr>\n",
       "      <th>A</th>\n",
       "      <td>46.0</td>\n",
       "      <td>10.422</td>\n",
       "      <td>4.466</td>\n",
       "      <td>0.7</td>\n",
       "      <td>7.475</td>\n",
       "      <td>10.35</td>\n",
       "      <td>13.200</td>\n",
       "      <td>21.4</td>\n",
       "    </tr>\n",
       "    <tr>\n",
       "      <th>B</th>\n",
       "      <td>36.0</td>\n",
       "      <td>5.689</td>\n",
       "      <td>3.293</td>\n",
       "      <td>0.6</td>\n",
       "      <td>4.150</td>\n",
       "      <td>5.15</td>\n",
       "      <td>6.375</td>\n",
       "      <td>19.2</td>\n",
       "    </tr>\n",
       "  </tbody>\n",
       "</table>\n",
       "</div>"
      ],
      "text/plain": [
       "       count    mean    std  min    25%    50%     75%   max\n",
       "PLANO                                                       \n",
       "A       46.0  10.422  4.466  0.7  7.475  10.35  13.200  21.4\n",
       "B       36.0   5.689  3.293  0.6  4.150   5.15   6.375  19.2"
      ]
     },
     "execution_count": 8,
     "metadata": {},
     "output_type": "execute_result"
    }
   ],
   "source": [
    "dados.groupby('PLANO').RENDA.describe().round(3)"
   ]
  },
  {
   "cell_type": "code",
   "execution_count": 9,
   "metadata": {},
   "outputs": [
    {
     "data": {
      "text/html": [
       "<div>\n",
       "<style scoped>\n",
       "    .dataframe tbody tr th:only-of-type {\n",
       "        vertical-align: middle;\n",
       "    }\n",
       "\n",
       "    .dataframe tbody tr th {\n",
       "        vertical-align: top;\n",
       "    }\n",
       "\n",
       "    .dataframe thead th {\n",
       "        text-align: right;\n",
       "    }\n",
       "</style>\n",
       "<table border=\"1\" class=\"dataframe\">\n",
       "  <thead>\n",
       "    <tr style=\"text-align: right;\">\n",
       "      <th></th>\n",
       "      <th>count</th>\n",
       "      <th>mean</th>\n",
       "      <th>std</th>\n",
       "      <th>min</th>\n",
       "      <th>25%</th>\n",
       "      <th>50%</th>\n",
       "      <th>75%</th>\n",
       "      <th>max</th>\n",
       "    </tr>\n",
       "    <tr>\n",
       "      <th>PLANO</th>\n",
       "      <th></th>\n",
       "      <th></th>\n",
       "      <th></th>\n",
       "      <th></th>\n",
       "      <th></th>\n",
       "      <th></th>\n",
       "      <th></th>\n",
       "      <th></th>\n",
       "    </tr>\n",
       "  </thead>\n",
       "  <tbody>\n",
       "    <tr>\n",
       "      <th>A</th>\n",
       "      <td>46.0</td>\n",
       "      <td>10.421739</td>\n",
       "      <td>4.465568</td>\n",
       "      <td>0.7</td>\n",
       "      <td>7.475</td>\n",
       "      <td>10.35</td>\n",
       "      <td>13.200</td>\n",
       "      <td>21.4</td>\n",
       "    </tr>\n",
       "    <tr>\n",
       "      <th>B</th>\n",
       "      <td>36.0</td>\n",
       "      <td>5.688889</td>\n",
       "      <td>3.293437</td>\n",
       "      <td>0.6</td>\n",
       "      <td>4.150</td>\n",
       "      <td>5.15</td>\n",
       "      <td>6.375</td>\n",
       "      <td>19.2</td>\n",
       "    </tr>\n",
       "  </tbody>\n",
       "</table>\n",
       "</div>"
      ],
      "text/plain": [
       "       count       mean       std  min    25%    50%     75%   max\n",
       "PLANO                                                             \n",
       "A       46.0  10.421739  4.465568  0.7  7.475  10.35  13.200  21.4\n",
       "B       36.0   5.688889  3.293437  0.6  4.150   5.15   6.375  19.2"
      ]
     },
     "metadata": {},
     "output_type": "display_data"
    },
    {
     "data": {
      "text/html": [
       "<div>\n",
       "<style scoped>\n",
       "    .dataframe tbody tr th:only-of-type {\n",
       "        vertical-align: middle;\n",
       "    }\n",
       "\n",
       "    .dataframe tbody tr th {\n",
       "        vertical-align: top;\n",
       "    }\n",
       "\n",
       "    .dataframe thead th {\n",
       "        text-align: right;\n",
       "    }\n",
       "</style>\n",
       "<table border=\"1\" class=\"dataframe\">\n",
       "  <thead>\n",
       "    <tr style=\"text-align: right;\">\n",
       "      <th></th>\n",
       "      <th>count</th>\n",
       "      <th>mean</th>\n",
       "      <th>std</th>\n",
       "      <th>min</th>\n",
       "      <th>25%</th>\n",
       "      <th>50%</th>\n",
       "      <th>75%</th>\n",
       "      <th>max</th>\n",
       "    </tr>\n",
       "    <tr>\n",
       "      <th>EC</th>\n",
       "      <th></th>\n",
       "      <th></th>\n",
       "      <th></th>\n",
       "      <th></th>\n",
       "      <th></th>\n",
       "      <th></th>\n",
       "      <th></th>\n",
       "      <th></th>\n",
       "    </tr>\n",
       "  </thead>\n",
       "  <tbody>\n",
       "    <tr>\n",
       "      <th>Casado</th>\n",
       "      <td>36.0</td>\n",
       "      <td>9.125000</td>\n",
       "      <td>5.247877</td>\n",
       "      <td>0.6</td>\n",
       "      <td>4.9</td>\n",
       "      <td>9.3</td>\n",
       "      <td>11.925</td>\n",
       "      <td>21.4</td>\n",
       "    </tr>\n",
       "    <tr>\n",
       "      <th>Solteiro</th>\n",
       "      <td>33.0</td>\n",
       "      <td>7.854545</td>\n",
       "      <td>3.967295</td>\n",
       "      <td>2.5</td>\n",
       "      <td>5.0</td>\n",
       "      <td>7.0</td>\n",
       "      <td>10.300</td>\n",
       "      <td>17.6</td>\n",
       "    </tr>\n",
       "    <tr>\n",
       "      <th>Outros</th>\n",
       "      <td>13.0</td>\n",
       "      <td>7.423077</td>\n",
       "      <td>4.290523</td>\n",
       "      <td>3.3</td>\n",
       "      <td>5.3</td>\n",
       "      <td>5.4</td>\n",
       "      <td>9.300</td>\n",
       "      <td>16.7</td>\n",
       "    </tr>\n",
       "  </tbody>\n",
       "</table>\n",
       "</div>"
      ],
      "text/plain": [
       "          count      mean       std  min  25%  50%     75%   max\n",
       "EC                                                              \n",
       "Casado     36.0  9.125000  5.247877  0.6  4.9  9.3  11.925  21.4\n",
       "Solteiro   33.0  7.854545  3.967295  2.5  5.0  7.0  10.300  17.6\n",
       "Outros     13.0  7.423077  4.290523  3.3  5.3  5.4   9.300  16.7"
      ]
     },
     "metadata": {},
     "output_type": "display_data"
    }
   ],
   "source": [
    "# Para aluno ver uso do display que não perde formatação e com print perderia\n",
    "display(dados.groupby('PLANO').RENDA.describe())\n",
    "\n",
    "display(dados.groupby('EC').RENDA.describe())"
   ]
  },
  {
   "cell_type": "code",
   "execution_count": 10,
   "metadata": {
    "scrolled": true
   },
   "outputs": [
    {
     "data": {
      "text/html": [
       "<div>\n",
       "<style scoped>\n",
       "    .dataframe tbody tr th:only-of-type {\n",
       "        vertical-align: middle;\n",
       "    }\n",
       "\n",
       "    .dataframe tbody tr th {\n",
       "        vertical-align: top;\n",
       "    }\n",
       "\n",
       "    .dataframe thead th {\n",
       "        text-align: right;\n",
       "    }\n",
       "</style>\n",
       "<table border=\"1\" class=\"dataframe\">\n",
       "  <thead>\n",
       "    <tr style=\"text-align: right;\">\n",
       "      <th>PLANO</th>\n",
       "      <th>A</th>\n",
       "      <th>B</th>\n",
       "    </tr>\n",
       "  </thead>\n",
       "  <tbody>\n",
       "    <tr>\n",
       "      <th>count</th>\n",
       "      <td>46.000000</td>\n",
       "      <td>36.000000</td>\n",
       "    </tr>\n",
       "    <tr>\n",
       "      <th>mean</th>\n",
       "      <td>10.421739</td>\n",
       "      <td>5.688889</td>\n",
       "    </tr>\n",
       "    <tr>\n",
       "      <th>std</th>\n",
       "      <td>4.465568</td>\n",
       "      <td>3.293437</td>\n",
       "    </tr>\n",
       "    <tr>\n",
       "      <th>min</th>\n",
       "      <td>0.700000</td>\n",
       "      <td>0.600000</td>\n",
       "    </tr>\n",
       "    <tr>\n",
       "      <th>25%</th>\n",
       "      <td>7.475000</td>\n",
       "      <td>4.150000</td>\n",
       "    </tr>\n",
       "    <tr>\n",
       "      <th>50%</th>\n",
       "      <td>10.350000</td>\n",
       "      <td>5.150000</td>\n",
       "    </tr>\n",
       "    <tr>\n",
       "      <th>75%</th>\n",
       "      <td>13.200000</td>\n",
       "      <td>6.375000</td>\n",
       "    </tr>\n",
       "    <tr>\n",
       "      <th>max</th>\n",
       "      <td>21.400000</td>\n",
       "      <td>19.200000</td>\n",
       "    </tr>\n",
       "  </tbody>\n",
       "</table>\n",
       "</div>"
      ],
      "text/plain": [
       "PLANO          A          B\n",
       "count  46.000000  36.000000\n",
       "mean   10.421739   5.688889\n",
       "std     4.465568   3.293437\n",
       "min     0.700000   0.600000\n",
       "25%     7.475000   4.150000\n",
       "50%    10.350000   5.150000\n",
       "75%    13.200000   6.375000\n",
       "max    21.400000  19.200000"
      ]
     },
     "execution_count": 10,
     "metadata": {},
     "output_type": "execute_result"
    }
   ],
   "source": [
    "dados.groupby('PLANO').RENDA.describe().transpose()"
   ]
  },
  {
   "cell_type": "markdown",
   "metadata": {},
   "source": [
    "<div id=\"interpretacao\"></div>\n",
    "\n",
    "## Relembrando a interpretação:  **Exercicio 5** do notebook da **Aula03_Atividade**\n",
    "\n",
    "Observe os todos esses resultados e tire conclusões sobre a renda dos clientes (em mil reais) em cada plano. \n",
    "\n",
    "Destaque sua interpretação também para dentro de cada plano e não só entre planos.\n",
    "\n",
    "Interprete todos os resultados também em termos do objetivo do problema: renda é uma variável importante para traçar o perfil do cliente quanto a escolha do plano?"
   ]
  },
  {
   "cell_type": "code",
   "execution_count": null,
   "metadata": {},
   "outputs": [],
   "source": [
    "# Coloque sua interpretação aqui"
   ]
  },
  {
   "cell_type": "markdown",
   "metadata": {},
   "source": [
    "[Volta ao Índice](#indice)"
   ]
  },
  {
   "cell_type": "markdown",
   "metadata": {},
   "source": [
    "___\n",
    "<div id=\"histograma\"></div>\n",
    "\n",
    "# Análise Exploratória - Histograma\n",
    "\n",
    "O histograma é um gráfico adequado para representar as frequências (de contagem ou relativas) de variáveis OBRIGATORIAMENTE\n",
    "**quantitativas**. \n",
    "\n",
    "No **eixo x**, tem-se a representação da **grandeza da variável quantitativa** que está sendo estudada.\n",
    "\n",
    "No **eixo y**, o *default* considera a frequência absoluta (contagem). Entretanto, há dois importantes motivos que nos animam a utilizar a medida **densidade** alterando o argumento *density* para *True*, ou seja, `density=True`. Veja os motivos:\n",
    "  * Considerar a densidade no eixo y, permite considerar faixas com amplitudes diferentes sem distorção de interpretação.\n",
    "  * Considerar a densidade no eixo y, garante que a área do histograma seja igual a $1$ permitindo colocar curvas probabilísticas cuja área total também é $1$.\n",
    "\n",
    "Para construí-lo considerando a biblioteca `matplotlib`, consulte [aqui](https://matplotlib.org/3.3.1/api/_as_gen/matplotlib.pyplot.hist.html)."
   ]
  },
  {
   "cell_type": "markdown",
   "metadata": {},
   "source": [
    "<div id=\"ex1\"></div>\n",
    "\n",
    "### EXERCÍCIO 1\n",
    "\n",
    "Execute a célula a seguir e veja algumas possibilidades de histograma com a variável `RENDA` considerando todos os clientes.\n",
    "\n",
    "Analise os quatro histogramas abaixo, observando:\n",
    " * o significado dos argumentos utilizados em cada caso;\n",
    " * o significado dos valores considerados no eixo x; e\n",
    " * o significado dos valores considerados no eixo y.\n",
    "\n",
    "Um dos quatro histogramas está seguramente errado. Identifique-o e descreva o motivo.\n",
    "\n",
    "<br> \n",
    "\n",
    "**Atenção:** \n",
    " * Aproveite para compreender o uso do comando `plt.subplot(Número de linhas, Número de colunas, Posição do gráfico)`. \n",
    " * Esse comando é útil para colocar vários gráficos dentro da mesma janela gráfica, cujo tamanho é dado em `plt.figure(figsize=(largura, comprimento)`."
   ]
  },
  {
   "cell_type": "code",
   "execution_count": 15,
   "metadata": {
    "scrolled": false
   },
   "outputs": [
    {
     "data": {
      "image/png": "[encoded data removed]",
      "text/plain": [
       "<Figure size 936x648 with 4 Axes>"
      ]
     },
     "metadata": {
      "needs_background": "light"
     },
     "output_type": "display_data"
    }
   ],
   "source": [
    "plt.figure(figsize=(13, 9))\n",
    "\n",
    "plt.subplot(221) # Janela gráfica com 2 linhas, 2 colunas e histograma a seguir é colocado na posição 1\n",
    "plt.hist(dados.RENDA, edgecolor='white')\n",
    "plt.title(\"Histograma 1\")\n",
    "\n",
    "\n",
    "plt.subplot(222) # Janela gráfica com 2 linhas, 2 colunas e histograma a seguir é colocado na posição 2\n",
    "plt.hist(dados.RENDA, edgecolor='WHITE', density=True)\n",
    "plt.title(\"Histograma 2\")\n",
    "\n",
    "\n",
    "plt.subplot(223) # Janela gráfica com 2 linhas, 2 colunas e histograma a seguir é colocado na posição 3\n",
    "plt.hist(dados.RENDA, bins=[0.5,4,7.5,11,21.5], edgecolor='white')\n",
    "plt.title(\"Histograma 3\")\n",
    "\n",
    "\n",
    "plt.subplot(224) # Janela gráfica com 2 linhas, 2 colunas e histograma a seguir é colocado na posição 4\n",
    "plt.hist(dados.RENDA, bins=[0.5,4,7.5,11,21.5], edgecolor='white', density=True)\n",
    "plt.title(\"Histograma 4\")\n",
    "\n",
    "\n",
    "plt.tight_layout()\n",
    "plt.show() # Fecha a janela gráfica. Use apenas uma vez para cada plt.figure()"
   ]
  },
  {
   "cell_type": "code",
   "execution_count": null,
   "metadata": {},
   "outputs": [],
   "source": [
    "# Coloque sua interpretação aqui\n",
    "\n"
   ]
  },
  {
   "cell_type": "markdown",
   "metadata": {},
   "source": [
    "[Volta ao Índice](#indice)"
   ]
  },
  {
   "cell_type": "markdown",
   "metadata": {},
   "source": [
    "<div id=\"ampliguais\"></div>\n",
    "\n",
    "##  Como construir um histograma com AMPLITUDES IGUAIS"
   ]
  },
  {
   "cell_type": "markdown",
   "metadata": {},
   "source": [
    "Primeiro, é necessário estudar a variável quantitativa que será utilizada no histograma.\n",
    "\n",
    "Abaixo, vamos construir um histograma para a variável `RENDA` considerando todos os clientes. Já sabemos algumas descritivas sobre essa variável, mas é importante lembrar que para definir as faixas de um histograma, antes deve fazer:"
   ]
  },
  {
   "cell_type": "code",
   "execution_count": 17,
   "metadata": {},
   "outputs": [
    {
     "data": {
      "text/html": [
       "<div>\n",
       "<style scoped>\n",
       "    .dataframe tbody tr th:only-of-type {\n",
       "        vertical-align: middle;\n",
       "    }\n",
       "\n",
       "    .dataframe tbody tr th {\n",
       "        vertical-align: top;\n",
       "    }\n",
       "\n",
       "    .dataframe thead th {\n",
       "        text-align: right;\n",
       "    }\n",
       "</style>\n",
       "<table border=\"1\" class=\"dataframe\">\n",
       "  <thead>\n",
       "    <tr style=\"text-align: right;\">\n",
       "      <th></th>\n",
       "      <th>count</th>\n",
       "      <th>mean</th>\n",
       "      <th>std</th>\n",
       "      <th>min</th>\n",
       "      <th>25%</th>\n",
       "      <th>50%</th>\n",
       "      <th>75%</th>\n",
       "      <th>max</th>\n",
       "    </tr>\n",
       "  </thead>\n",
       "  <tbody>\n",
       "    <tr>\n",
       "      <th>RENDA</th>\n",
       "      <td>82.0</td>\n",
       "      <td>8.343902</td>\n",
       "      <td>4.620622</td>\n",
       "      <td>0.6</td>\n",
       "      <td>4.925</td>\n",
       "      <td>7.75</td>\n",
       "      <td>10.775</td>\n",
       "      <td>21.4</td>\n",
       "    </tr>\n",
       "  </tbody>\n",
       "</table>\n",
       "</div>"
      ],
      "text/plain": [
       "       count      mean       std  min    25%   50%     75%   max\n",
       "RENDA   82.0  8.343902  4.620622  0.6  4.925  7.75  10.775  21.4"
      ]
     },
     "execution_count": 17,
     "metadata": {},
     "output_type": "execute_result"
    }
   ],
   "source": [
    "dados.RENDA.describe().to_frame().transpose()"
   ]
  },
  {
   "cell_type": "markdown",
   "metadata": {},
   "source": [
    "Observando os valores de renda mínimo e máximo que aparecem nesses dados, temos que a amplitude dos dados é igual a:"
   ]
  },
  {
   "cell_type": "code",
   "execution_count": 18,
   "metadata": {},
   "outputs": [
    {
     "name": "stdout",
     "output_type": "stream",
     "text": [
      "Amplitude dos dados: 20.800\n"
     ]
    }
   ],
   "source": [
    "amplitude_dados = dados.RENDA.max()-dados.RENDA.min()\n",
    "print(f'Amplitude dos dados: {amplitude_dados:.3f}')"
   ]
  },
  {
   "cell_type": "markdown",
   "metadata": {},
   "source": [
    "Assumindo que haja o interesse em construir um **histograma com 6 faixas**, por exemplo, então para sabermos o tamanho de cada faixa, podemos fazer a seguinte conta:"
   ]
  },
  {
   "cell_type": "code",
   "execution_count": 19,
   "metadata": {},
   "outputs": [
    {
     "name": "stdout",
     "output_type": "stream",
     "text": [
      "Amplitude de cada faixa: 3.467 \n",
      "Para facilitar na interpretação, vamos arredondar para uma casa decimal, \n",
      "Ou seja, vamos considerar a amplitude de cada faixa igual a 3.5\n"
     ]
    }
   ],
   "source": [
    "amplitude_faixa = amplitude_dados / 6\n",
    "print(f'Amplitude de cada faixa: {amplitude_faixa:.3f} \\n'\n",
    "      f'Para facilitar na interpretação, vamos arredondar para uma casa decimal, \\n'\n",
    "      f'Ou seja, vamos considerar a amplitude de cada faixa igual a {amplitude_faixa:.1f}')"
   ]
  },
  {
   "cell_type": "markdown",
   "metadata": {},
   "source": [
    "### Dado o exposto acima, vamos considerar amplitudes iguais de tamanho $3.5$ mil reais para construir as faixas de renda.\n",
    "\n",
    "Pelo fato dessas amplitudes não serem número inteiro, nesse caso, o comando `range` não irá funcionar.\n",
    "\n",
    "Porém, o comando `arange` do `numpy` permite que os argumentos `start`, `stop` e `step` possam ser do tipo `float`."
   ]
  },
  {
   "cell_type": "code",
   "execution_count": 20,
   "metadata": {},
   "outputs": [],
   "source": [
    "from numpy import arange"
   ]
  },
  {
   "cell_type": "code",
   "execution_count": 22,
   "metadata": {},
   "outputs": [
    {
     "data": {
      "text/plain": [
       "array([ 0.5,  4. ,  7.5, 11. , 14.5, 18. , 21.5])"
      ]
     },
     "execution_count": 22,
     "metadata": {},
     "output_type": "execute_result"
    }
   ],
   "source": [
    "# faixas de AMPLITUDES IGUAIS\n",
    "faixa1 = arange(0.5,22,3.5)\n",
    "faixa1"
   ]
  },
  {
   "cell_type": "code",
   "execution_count": 24,
   "metadata": {
    "scrolled": true
   },
   "outputs": [
    {
     "data": {
      "image/png": "[encoded data removed]",
      "text/plain": [
       "<Figure size 1080x360 with 2 Axes>"
      ]
     },
     "metadata": {
      "needs_background": "light"
     },
     "output_type": "display_data"
    }
   ],
   "source": [
    "# Histograma da variável renda considerando faixas de AMPLITUDES IGUAIS\n",
    "plt.figure(figsize=(15, 5))\n",
    "\n",
    "plt.subplot(121)\n",
    "plt.hist(dados.RENDA, bins=faixa1, color='darkcyan', edgecolor='white')\n",
    "plt.title('Contagem (eixo y) e Amplitudes iguais (eixo x)')\n",
    "plt.ylabel('Frequência absoluta')\n",
    "\n",
    "plt.subplot(122)\n",
    "plt.hist(dados.RENDA, bins=faixa1, color='darkcyan', edgecolor='white', density=True)\n",
    "plt.title('Densidade (eixo y) e Amplitudes iguais (eixo x)')\n",
    "plt.ylabel('Densidade')\n",
    "\n",
    "plt.show()"
   ]
  },
  {
   "cell_type": "markdown",
   "metadata": {},
   "source": [
    "[Volta ao Índice](#indice)"
   ]
  },
  {
   "cell_type": "markdown",
   "metadata": {},
   "source": [
    "<div id=\"ampldesiguais\"></div>\n",
    "\n",
    "## Como construir um histograma com AMPLITUDES DESIGUAIS"
   ]
  },
  {
   "cell_type": "markdown",
   "metadata": {},
   "source": [
    "Para propor faixas com amplitudes desiguais, também é necessário estudar a variável quantitativa que será utilizada no histograma."
   ]
  },
  {
   "cell_type": "code",
   "execution_count": 25,
   "metadata": {},
   "outputs": [
    {
     "data": {
      "text/html": [
       "<div>\n",
       "<style scoped>\n",
       "    .dataframe tbody tr th:only-of-type {\n",
       "        vertical-align: middle;\n",
       "    }\n",
       "\n",
       "    .dataframe tbody tr th {\n",
       "        vertical-align: top;\n",
       "    }\n",
       "\n",
       "    .dataframe thead th {\n",
       "        text-align: right;\n",
       "    }\n",
       "</style>\n",
       "<table border=\"1\" class=\"dataframe\">\n",
       "  <thead>\n",
       "    <tr style=\"text-align: right;\">\n",
       "      <th></th>\n",
       "      <th>count</th>\n",
       "      <th>mean</th>\n",
       "      <th>std</th>\n",
       "      <th>min</th>\n",
       "      <th>25%</th>\n",
       "      <th>50%</th>\n",
       "      <th>75%</th>\n",
       "      <th>max</th>\n",
       "    </tr>\n",
       "  </thead>\n",
       "  <tbody>\n",
       "    <tr>\n",
       "      <th>RENDA</th>\n",
       "      <td>82.0</td>\n",
       "      <td>8.343902</td>\n",
       "      <td>4.620622</td>\n",
       "      <td>0.6</td>\n",
       "      <td>4.925</td>\n",
       "      <td>7.75</td>\n",
       "      <td>10.775</td>\n",
       "      <td>21.4</td>\n",
       "    </tr>\n",
       "  </tbody>\n",
       "</table>\n",
       "</div>"
      ],
      "text/plain": [
       "       count      mean       std  min    25%   50%     75%   max\n",
       "RENDA   82.0  8.343902  4.620622  0.6  4.925  7.75  10.775  21.4"
      ]
     },
     "execution_count": 25,
     "metadata": {},
     "output_type": "execute_result"
    }
   ],
   "source": [
    "dados.RENDA.describe().to_frame().transpose()"
   ]
  },
  {
   "cell_type": "markdown",
   "metadata": {},
   "source": [
    "Observando os valores de renda mínimo e máximo que aparecem nesses dados, vamos propor faixas que seja igual ou menor do que o valor mínimo e vamos propor terminar em valor igual ou maior do que o valor máximo.\n",
    "\n",
    "**Dica:** a variável aqui está em mil reais, então vamos usar números que facilitem na interpretação do gráfico."
   ]
  },
  {
   "cell_type": "code",
   "execution_count": 26,
   "metadata": {},
   "outputs": [
    {
     "data": {
      "text/plain": [
       "[0.5, 4, 7.5, 11, 21.5]"
      ]
     },
     "execution_count": 26,
     "metadata": {},
     "output_type": "execute_result"
    }
   ],
   "source": [
    "# faixas de AMPLITUDES DESIGUAIS\n",
    "faixa2 = [ 0.5, 4, 7.5, 11, 21.5]\n",
    "faixa2"
   ]
  },
  {
   "cell_type": "markdown",
   "metadata": {},
   "source": [
    "**ATENÇÃO:** Quando tivermos amplitudes desiguais, já vimos no [Exercício 1](#ex1) que o argumento `density=True` deverá ser sempre utilizado."
   ]
  },
  {
   "cell_type": "markdown",
   "metadata": {},
   "source": [
    "[Volta ao Índice](#indice)"
   ]
  },
  {
   "cell_type": "markdown",
   "metadata": {},
   "source": [
    "<div id=\"ex2\"></div>\n",
    "\n",
    "### EXERCÍCIO 2\n",
    "\n",
    "Faça dois histogramas com as seguintes restrições:\n",
    "  * usar varável renda segmentada por plano (um histograma para cada plano)\n",
    "  * usar densidade no eixo y\n",
    "  * faixas com amplitudes iguais de tamanho $3$ \n",
    "  * iniciar faixa em $0.5$\n",
    "  * use o comando `arange` da biblioteca `numpy` para construir essas faixas. Busque a sintaxe desse comando no seu navegador\n",
    "  * use plt.subplot() com 1 linha e 2 colunas\n",
    "  * use as cores descritas [aqui](https://matplotlib.org/stable/gallery/color/named_colors.html), caso queira incrementar a visualização dos histogramas. Leia [aqui](https://marketingpordados.com/marketing/data-visualization-x-dashboards-entenda-qual-e-diferenca-2/) e [aqui](https://aodigital.com.br/data-visualization/) para saber a importância do DataViz."
   ]
  },
  {
   "cell_type": "code",
   "execution_count": null,
   "metadata": {},
   "outputs": [],
   "source": [
    "from numpy import arange"
   ]
  },
  {
   "cell_type": "code",
   "execution_count": null,
   "metadata": {},
   "outputs": [],
   "source": [
    "# Coloque se código aqui"
   ]
  },
  {
   "cell_type": "code",
   "execution_count": 50,
   "metadata": {},
   "outputs": [
    {
     "data": {
      "image/png": "[encoded data removed]",
      "text/plain": [
       "<Figure size 1080x360 with 2 Axes>"
      ]
     },
     "metadata": {
      "needs_background": "light"
     },
     "output_type": "display_data"
    }
   ],
   "source": [
    "plt.figure(figsize=(15, 5))\n",
    "\n",
    "faixa3 = np.arange(0.5,22.5,3)\n",
    "\n",
    "plt.subplot(121)\n",
    "plt.hist(dados.loc[dados['PLANO'] == 'A',['RENDA']], bins=faixa3, color='darkcyan', edgecolor='white', density=True)\n",
    "plt.title('Contagem (eixo y) e Amplitudes iguais (eixo x)')\n",
    "plt.ylabel('Frequência absoluta')\n",
    "plt.ylim(0,0.2)\n",
    "\n",
    "plt.subplot(122)\n",
    "plt.hist(dados.loc[dados['PLANO'] == 'B',['RENDA']], bins=faixa3, color='darkcyan', edgecolor='white', density=True)\n",
    "plt.title('Densidade (eixo y) e Amplitudes iguais (eixo x)')\n",
    "plt.ylabel('Densidade')\n",
    "plt.ylim(0,0.2)\n",
    "\n",
    "plt.show()"
   ]
  },
  {
   "cell_type": "markdown",
   "metadata": {},
   "source": [
    "[Volta ao Índice](#indice)"
   ]
  }
 ],
 "metadata": {
  "anaconda-cloud": {},
  "kernelspec": {
   "display_name": "Python 3 (ipykernel)",
   "language": "python",
   "name": "python3"
  },
  "language_info": {
   "codemirror_mode": {
    "name": "ipython",
    "version": 3
   },
   "file_extension": ".py",
   "mimetype": "text/x-python",
   "name": "python",
   "nbconvert_exporter": "python",
   "pygments_lexer": "ipython3",
   "version": "3.9.12"
  }
 },
 "nbformat": 4,
 "nbformat_minor": 4
}
